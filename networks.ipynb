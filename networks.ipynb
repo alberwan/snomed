{
 "cells": [
  {
   "cell_type": "code",
   "execution_count": 1,
   "metadata": {
    "scrolled": true
   },
   "outputs": [],
   "source": [
    "# !pip install -U --force-reinstall numpy matplotlib pyzmq jinja2 ipython"
   ]
  },
  {
   "cell_type": "code",
   "execution_count": 3,
   "metadata": {},
   "outputs": [],
   "source": [
    "import pandas as pd\n",
    "import numpy as np\n",
    "import networkx as nx\n",
    "from holoviews.operation.datashader import datashade, bundle_graph"
   ]
  },
  {
   "cell_type": "code",
   "execution_count": null,
   "metadata": {},
   "outputs": [],
   "source": [
    "import numpy as np\n",
    "import pandas as pd\n",
    "import holoviews as hv\n",
    "import networkx as nx\n",
    "from holoviews import opts\n",
    "\n",
    "hv.extension('bokeh')\n",
    "\n",
    "defaults = dict(width=400, height=400)\n",
    "hv.opts.defaults(\n",
    "    opts.EdgePaths(**defaults), opts.Graph(**defaults), opts.Nodes(**defaults))"
   ]
  },
  {
   "cell_type": "code",
   "execution_count": 4,
   "metadata": {},
   "outputs": [],
   "source": [
    "con = pd.read_csv('data/concepts.csv')\n",
    "sem = pd.read_csv('data/semantype.csv')"
   ]
  },
  {
   "cell_type": "code",
   "execution_count": 5,
   "metadata": {},
   "outputs": [],
   "source": [
    "con = con[['CUI', 'SUI', 'STR', 'SCUI']]"
   ]
  },
  {
   "cell_type": "code",
   "execution_count": 6,
   "metadata": {},
   "outputs": [],
   "source": [
    "# # SUI is unique\n",
    "# con['SUI'].nunique()"
   ]
  },
  {
   "cell_type": "code",
   "execution_count": 7,
   "metadata": {},
   "outputs": [],
   "source": [
    "# # CUI is not unique\n",
    "# con['CUI'].nunique()"
   ]
  },
  {
   "cell_type": "code",
   "execution_count": 8,
   "metadata": {
    "scrolled": true
   },
   "outputs": [],
   "source": [
    "# sem[sem.duplicated(['CUI'])]"
   ]
  },
  {
   "cell_type": "code",
   "execution_count": 439,
   "metadata": {},
   "outputs": [],
   "source": [
    "# sem[sem['CUI'] == 'C0054208']"
   ]
  },
  {
   "cell_type": "markdown",
   "metadata": {},
   "source": [
    "## Combine multiple STY together"
   ]
  },
  {
   "cell_type": "code",
   "execution_count": 440,
   "metadata": {},
   "outputs": [],
   "source": [
    "sems = sem[['CUI', 'STY']]"
   ]
  },
  {
   "cell_type": "code",
   "execution_count": 441,
   "metadata": {},
   "outputs": [],
   "source": [
    "g = sems.groupby('CUI')['STY'].apply(lambda x: ' | '.join(list(np.unique(x))))"
   ]
  },
  {
   "cell_type": "code",
   "execution_count": 442,
   "metadata": {},
   "outputs": [
    {
     "data": {
      "text/plain": [
       "CUI\n",
       "C0000052             Amino Acid, Peptide, or Protein | Enzyme\n",
       "C0000163                           Hormone | Organic Chemical\n",
       "C0000167                           Hormone | Organic Chemical\n",
       "C0000215    Hazardous or Poisonous Substance | Organic Che...\n",
       "C0000220    Hazardous or Poisonous Substance | Organic Che...\n",
       "Name: STY, dtype: object"
      ]
     },
     "execution_count": 442,
     "metadata": {},
     "output_type": "execute_result"
    }
   ],
   "source": [
    "g.head()"
   ]
  },
  {
   "cell_type": "code",
   "execution_count": null,
   "metadata": {},
   "outputs": [],
   "source": []
  },
  {
   "cell_type": "code",
   "execution_count": null,
   "metadata": {},
   "outputs": [],
   "source": []
  },
  {
   "cell_type": "markdown",
   "metadata": {},
   "source": [
    "## Join concept and semantic types"
   ]
  },
  {
   "cell_type": "code",
   "execution_count": 48,
   "metadata": {},
   "outputs": [],
   "source": [
    "nodes = con.set_index('CUI').join(g)"
   ]
  },
  {
   "cell_type": "code",
   "execution_count": 49,
   "metadata": {},
   "outputs": [
    {
     "data": {
      "text/html": [
       "<div>\n",
       "<style scoped>\n",
       "    .dataframe tbody tr th:only-of-type {\n",
       "        vertical-align: middle;\n",
       "    }\n",
       "\n",
       "    .dataframe tbody tr th {\n",
       "        vertical-align: top;\n",
       "    }\n",
       "\n",
       "    .dataframe thead th {\n",
       "        text-align: right;\n",
       "    }\n",
       "</style>\n",
       "<table border=\"1\" class=\"dataframe\">\n",
       "  <thead>\n",
       "    <tr style=\"text-align: right;\">\n",
       "      <th></th>\n",
       "      <th>SUI</th>\n",
       "      <th>STR</th>\n",
       "      <th>STY</th>\n",
       "    </tr>\n",
       "    <tr>\n",
       "      <th>CUI</th>\n",
       "      <th></th>\n",
       "      <th></th>\n",
       "      <th></th>\n",
       "    </tr>\n",
       "  </thead>\n",
       "  <tbody>\n",
       "    <tr>\n",
       "      <td>C0000052</td>\n",
       "      <td>S0575717</td>\n",
       "      <td>1,4-alpha-Glucan branching enzyme</td>\n",
       "      <td>Amino Acid, Peptide, or Protein | Enzyme</td>\n",
       "    </tr>\n",
       "    <tr>\n",
       "      <td>C0000163</td>\n",
       "      <td>S0001456</td>\n",
       "      <td>17-Hydroxycorticosteroid</td>\n",
       "      <td>Hormone | Organic Chemical</td>\n",
       "    </tr>\n",
       "    <tr>\n",
       "      <td>C0000167</td>\n",
       "      <td>S3361366</td>\n",
       "      <td>17-Ketosteroid</td>\n",
       "      <td>Hormone | Organic Chemical</td>\n",
       "    </tr>\n",
       "    <tr>\n",
       "      <td>C0000215</td>\n",
       "      <td>S0576710</td>\n",
       "      <td>2,4,5-Trichlorophenoxyacetic acid</td>\n",
       "      <td>Hazardous or Poisonous Substance | Organic Che...</td>\n",
       "    </tr>\n",
       "    <tr>\n",
       "      <td>C0000220</td>\n",
       "      <td>S0576727</td>\n",
       "      <td>2,4-Dichlorophenoxyacetic acid</td>\n",
       "      <td>Hazardous or Poisonous Substance | Organic Che...</td>\n",
       "    </tr>\n",
       "  </tbody>\n",
       "</table>\n",
       "</div>"
      ],
      "text/plain": [
       "               SUI                                STR  \\\n",
       "CUI                                                     \n",
       "C0000052  S0575717  1,4-alpha-Glucan branching enzyme   \n",
       "C0000163  S0001456           17-Hydroxycorticosteroid   \n",
       "C0000167  S3361366                     17-Ketosteroid   \n",
       "C0000215  S0576710  2,4,5-Trichlorophenoxyacetic acid   \n",
       "C0000220  S0576727     2,4-Dichlorophenoxyacetic acid   \n",
       "\n",
       "                                                        STY  \n",
       "CUI                                                          \n",
       "C0000052           Amino Acid, Peptide, or Protein | Enzyme  \n",
       "C0000163                         Hormone | Organic Chemical  \n",
       "C0000167                         Hormone | Organic Chemical  \n",
       "C0000215  Hazardous or Poisonous Substance | Organic Che...  \n",
       "C0000220  Hazardous or Poisonous Substance | Organic Che...  "
      ]
     },
     "execution_count": 49,
     "metadata": {},
     "output_type": "execute_result"
    }
   ],
   "source": [
    "nodes.head()"
   ]
  },
  {
   "cell_type": "code",
   "execution_count": 55,
   "metadata": {},
   "outputs": [],
   "source": [
    "nodes = nodes.reset_index()"
   ]
  },
  {
   "cell_type": "code",
   "execution_count": 56,
   "metadata": {},
   "outputs": [],
   "source": [
    "nodes.to_csv('data/nodes.csv', index=None)"
   ]
  },
  {
   "cell_type": "code",
   "execution_count": null,
   "metadata": {},
   "outputs": [],
   "source": []
  },
  {
   "cell_type": "code",
   "execution_count": null,
   "metadata": {},
   "outputs": [],
   "source": []
  },
  {
   "cell_type": "code",
   "execution_count": null,
   "metadata": {},
   "outputs": [],
   "source": []
  },
  {
   "cell_type": "markdown",
   "metadata": {},
   "source": [
    "## Links"
   ]
  },
  {
   "cell_type": "code",
   "execution_count": 70,
   "metadata": {},
   "outputs": [],
   "source": [
    "rel = pd.read_csv('data/relations.csv')"
   ]
  },
  {
   "cell_type": "code",
   "execution_count": 71,
   "metadata": {},
   "outputs": [
    {
     "data": {
      "text/html": [
       "<div>\n",
       "<style scoped>\n",
       "    .dataframe tbody tr th:only-of-type {\n",
       "        vertical-align: middle;\n",
       "    }\n",
       "\n",
       "    .dataframe tbody tr th {\n",
       "        vertical-align: top;\n",
       "    }\n",
       "\n",
       "    .dataframe thead th {\n",
       "        text-align: right;\n",
       "    }\n",
       "</style>\n",
       "<table border=\"1\" class=\"dataframe\">\n",
       "  <thead>\n",
       "    <tr style=\"text-align: right;\">\n",
       "      <th></th>\n",
       "      <th>CUI1</th>\n",
       "      <th>AUI1</th>\n",
       "      <th>REL</th>\n",
       "      <th>CUI2</th>\n",
       "      <th>AUI2</th>\n",
       "      <th>RELA</th>\n",
       "      <th>RG</th>\n",
       "    </tr>\n",
       "  </thead>\n",
       "  <tbody>\n",
       "    <tr>\n",
       "      <td>0</td>\n",
       "      <td>C2603351</td>\n",
       "      <td>A27786098</td>\n",
       "      <td>RN</td>\n",
       "      <td>C1959776</td>\n",
       "      <td>A13013550</td>\n",
       "      <td>part_of</td>\n",
       "      <td>0.0</td>\n",
       "    </tr>\n",
       "    <tr>\n",
       "      <td>1</td>\n",
       "      <td>C0024117</td>\n",
       "      <td>A3007198</td>\n",
       "      <td>RO</td>\n",
       "      <td>C3495060</td>\n",
       "      <td>A21460630</td>\n",
       "      <td>has_focus</td>\n",
       "      <td>0.0</td>\n",
       "    </tr>\n",
       "    <tr>\n",
       "      <td>2</td>\n",
       "      <td>C4707947</td>\n",
       "      <td>A29506081</td>\n",
       "      <td>RO</td>\n",
       "      <td>C0269506</td>\n",
       "      <td>A23045712</td>\n",
       "      <td>occurs_in</td>\n",
       "      <td>0.0</td>\n",
       "    </tr>\n",
       "    <tr>\n",
       "      <td>3</td>\n",
       "      <td>C0015967</td>\n",
       "      <td>A2881597</td>\n",
       "      <td>RO</td>\n",
       "      <td>C3536630</td>\n",
       "      <td>A21591815</td>\n",
       "      <td>associated_with</td>\n",
       "      <td>0.0</td>\n",
       "    </tr>\n",
       "    <tr>\n",
       "      <td>4</td>\n",
       "      <td>C0441987</td>\n",
       "      <td>A3200743</td>\n",
       "      <td>RO</td>\n",
       "      <td>C0924004</td>\n",
       "      <td>A11740683</td>\n",
       "      <td>has_laterality</td>\n",
       "      <td>0.0</td>\n",
       "    </tr>\n",
       "  </tbody>\n",
       "</table>\n",
       "</div>"
      ],
      "text/plain": [
       "       CUI1       AUI1 REL      CUI2       AUI2             RELA   RG\n",
       "0  C2603351  A27786098  RN  C1959776  A13013550          part_of  0.0\n",
       "1  C0024117   A3007198  RO  C3495060  A21460630        has_focus  0.0\n",
       "2  C4707947  A29506081  RO  C0269506  A23045712        occurs_in  0.0\n",
       "3  C0015967   A2881597  RO  C3536630  A21591815  associated_with  0.0\n",
       "4  C0441987   A3200743  RO  C0924004  A11740683   has_laterality  0.0"
      ]
     },
     "execution_count": 71,
     "metadata": {},
     "output_type": "execute_result"
    }
   ],
   "source": [
    "rel.head()"
   ]
  },
  {
   "cell_type": "code",
   "execution_count": 72,
   "metadata": {},
   "outputs": [
    {
     "data": {
      "text/html": [
       "<div>\n",
       "<style scoped>\n",
       "    .dataframe tbody tr th:only-of-type {\n",
       "        vertical-align: middle;\n",
       "    }\n",
       "\n",
       "    .dataframe tbody tr th {\n",
       "        vertical-align: top;\n",
       "    }\n",
       "\n",
       "    .dataframe thead th {\n",
       "        text-align: right;\n",
       "    }\n",
       "</style>\n",
       "<table border=\"1\" class=\"dataframe\">\n",
       "  <thead>\n",
       "    <tr style=\"text-align: right;\">\n",
       "      <th></th>\n",
       "      <th>CUI1</th>\n",
       "      <th>AUI1</th>\n",
       "      <th>REL</th>\n",
       "      <th>CUI2</th>\n",
       "      <th>AUI2</th>\n",
       "      <th>RELA</th>\n",
       "      <th>RG</th>\n",
       "    </tr>\n",
       "  </thead>\n",
       "  <tbody>\n",
       "  </tbody>\n",
       "</table>\n",
       "</div>"
      ],
      "text/plain": [
       "Empty DataFrame\n",
       "Columns: [CUI1, AUI1, REL, CUI2, AUI2, RELA, RG]\n",
       "Index: []"
      ]
     },
     "execution_count": 72,
     "metadata": {},
     "output_type": "execute_result"
    }
   ],
   "source": [
    "# Two concepts can have two different relationships\n",
    "rel[rel.duplicated(['CUI1', 'CUI2', 'RELA'])]"
   ]
  },
  {
   "cell_type": "code",
   "execution_count": 74,
   "metadata": {},
   "outputs": [
    {
     "data": {
      "text/html": [
       "<div>\n",
       "<style scoped>\n",
       "    .dataframe tbody tr th:only-of-type {\n",
       "        vertical-align: middle;\n",
       "    }\n",
       "\n",
       "    .dataframe tbody tr th {\n",
       "        vertical-align: top;\n",
       "    }\n",
       "\n",
       "    .dataframe thead th {\n",
       "        text-align: right;\n",
       "    }\n",
       "</style>\n",
       "<table border=\"1\" class=\"dataframe\">\n",
       "  <thead>\n",
       "    <tr style=\"text-align: right;\">\n",
       "      <th></th>\n",
       "      <th>CUI1</th>\n",
       "      <th>AUI1</th>\n",
       "      <th>REL</th>\n",
       "      <th>CUI2</th>\n",
       "      <th>AUI2</th>\n",
       "      <th>RELA</th>\n",
       "      <th>RG</th>\n",
       "    </tr>\n",
       "  </thead>\n",
       "  <tbody>\n",
       "  </tbody>\n",
       "</table>\n",
       "</div>"
      ],
      "text/plain": [
       "Empty DataFrame\n",
       "Columns: [CUI1, AUI1, REL, CUI2, AUI2, RELA, RG]\n",
       "Index: []"
      ]
     },
     "execution_count": 74,
     "metadata": {},
     "output_type": "execute_result"
    }
   ],
   "source": [
    "rel[rel['REL']=='AQ']"
   ]
  },
  {
   "cell_type": "code",
   "execution_count": 76,
   "metadata": {},
   "outputs": [
    {
     "data": {
      "text/plain": [
       "array(['RN', 'RO', 'CHD', 'SY'], dtype=object)"
      ]
     },
     "execution_count": 76,
     "metadata": {},
     "output_type": "execute_result"
    }
   ],
   "source": [
    "rel['REL'].unique()"
   ]
  },
  {
   "cell_type": "code",
   "execution_count": 77,
   "metadata": {},
   "outputs": [],
   "source": [
    "rel = rel[['CUI1', 'CUI2', 'RELA']]"
   ]
  },
  {
   "cell_type": "code",
   "execution_count": null,
   "metadata": {},
   "outputs": [],
   "source": []
  },
  {
   "cell_type": "code",
   "execution_count": null,
   "metadata": {},
   "outputs": [],
   "source": []
  },
  {
   "cell_type": "code",
   "execution_count": 78,
   "metadata": {},
   "outputs": [
    {
     "data": {
      "text/html": [
       "<div>\n",
       "<style scoped>\n",
       "    .dataframe tbody tr th:only-of-type {\n",
       "        vertical-align: middle;\n",
       "    }\n",
       "\n",
       "    .dataframe tbody tr th {\n",
       "        vertical-align: top;\n",
       "    }\n",
       "\n",
       "    .dataframe thead th {\n",
       "        text-align: right;\n",
       "    }\n",
       "</style>\n",
       "<table border=\"1\" class=\"dataframe\">\n",
       "  <thead>\n",
       "    <tr style=\"text-align: right;\">\n",
       "      <th></th>\n",
       "      <th>CUI1</th>\n",
       "      <th>CUI2</th>\n",
       "      <th>RELA</th>\n",
       "    </tr>\n",
       "  </thead>\n",
       "  <tbody>\n",
       "    <tr>\n",
       "      <td>0</td>\n",
       "      <td>C2603351</td>\n",
       "      <td>C1959776</td>\n",
       "      <td>part_of</td>\n",
       "    </tr>\n",
       "    <tr>\n",
       "      <td>1</td>\n",
       "      <td>C0024117</td>\n",
       "      <td>C3495060</td>\n",
       "      <td>has_focus</td>\n",
       "    </tr>\n",
       "    <tr>\n",
       "      <td>2</td>\n",
       "      <td>C4707947</td>\n",
       "      <td>C0269506</td>\n",
       "      <td>occurs_in</td>\n",
       "    </tr>\n",
       "    <tr>\n",
       "      <td>3</td>\n",
       "      <td>C0015967</td>\n",
       "      <td>C3536630</td>\n",
       "      <td>associated_with</td>\n",
       "    </tr>\n",
       "    <tr>\n",
       "      <td>4</td>\n",
       "      <td>C0441987</td>\n",
       "      <td>C0924004</td>\n",
       "      <td>has_laterality</td>\n",
       "    </tr>\n",
       "  </tbody>\n",
       "</table>\n",
       "</div>"
      ],
      "text/plain": [
       "       CUI1      CUI2             RELA\n",
       "0  C2603351  C1959776          part_of\n",
       "1  C0024117  C3495060        has_focus\n",
       "2  C4707947  C0269506        occurs_in\n",
       "3  C0015967  C3536630  associated_with\n",
       "4  C0441987  C0924004   has_laterality"
      ]
     },
     "execution_count": 78,
     "metadata": {},
     "output_type": "execute_result"
    }
   ],
   "source": [
    "rel.head()"
   ]
  },
  {
   "cell_type": "code",
   "execution_count": 79,
   "metadata": {},
   "outputs": [
    {
     "data": {
      "text/plain": [
       "103"
      ]
     },
     "execution_count": 79,
     "metadata": {},
     "output_type": "execute_result"
    }
   ],
   "source": [
    "rel['RELA'].nunique()"
   ]
  },
  {
   "cell_type": "code",
   "execution_count": 80,
   "metadata": {},
   "outputs": [],
   "source": [
    "rel.to_csv('data/edges.csv', index=None)"
   ]
  },
  {
   "cell_type": "code",
   "execution_count": null,
   "metadata": {},
   "outputs": [],
   "source": []
  },
  {
   "cell_type": "code",
   "execution_count": null,
   "metadata": {},
   "outputs": [],
   "source": []
  },
  {
   "cell_type": "code",
   "execution_count": null,
   "metadata": {},
   "outputs": [],
   "source": []
  },
  {
   "cell_type": "markdown",
   "metadata": {},
   "source": [
    "## Plot networks"
   ]
  },
  {
   "cell_type": "code",
   "execution_count": 475,
   "metadata": {},
   "outputs": [],
   "source": [
    "cons = pd.read_csv('data/nodes.csv')\n",
    "rels = pd.read_csv('data/edges.csv')"
   ]
  },
  {
   "cell_type": "code",
   "execution_count": 476,
   "metadata": {},
   "outputs": [],
   "source": [
    "suis = cons['SUI'].sample(2000)"
   ]
  },
  {
   "cell_type": "code",
   "execution_count": 487,
   "metadata": {},
   "outputs": [],
   "source": [
    "def network(suis):\n",
    "    nodes = cons[cons['SUI'].isin(suis)]\n",
    "    cuis = nodes['CUI'].unique()\n",
    "    edges = rels[(rels['CUI1'].isin(cuis)) & (rels['CUI2'].isin(cuis)) & (rels['CUI1'] != rels['CUI2'])]\n",
    "    \n",
    "    re_edges = []\n",
    "    for index, row in edges.iterrows():\n",
    "        cui1, cui2 = (row['CUI1'], row['CUI2'])\n",
    "        for sui1 in nodes[nodes['CUI']==cui1]['SUI'].values:\n",
    "            for sui2 in nodes[nodes['CUI']==cui2]['SUI'].values:\n",
    "                re_edges.append([sui1, sui2, row['RELA']])\n",
    "\n",
    "    re_edges = pd.DataFrame(re_edges, columns=['Source', 'Target', 'Rela'])\n",
    "                            \n",
    "    \n",
    "    G = nx.from_pandas_edgelist(re_edges, source='Source', target='Target', edge_attr='Rela', create_using=nx.DiGraph)\n",
    "    nx.set_node_attributes(G, nodes.set_index('SUI')['CUI'].to_dict(), 'CUI')\n",
    "    nx.set_node_attributes(G, nodes.set_index('SUI')['STR'].to_dict(), 'Text')\n",
    "    nx.set_node_attributes(G, nodes.set_index('SUI')['STY'].to_dict(), 'Type')\n",
    "    \n",
    "    return G"
   ]
  },
  {
   "cell_type": "code",
   "execution_count": 488,
   "metadata": {},
   "outputs": [],
   "source": [
    "G = network(suis)"
   ]
  },
  {
   "cell_type": "code",
   "execution_count": 490,
   "metadata": {},
   "outputs": [
    {
     "data": {},
     "metadata": {},
     "output_type": "display_data"
    },
    {
     "data": {
      "application/vnd.holoviews_exec.v0+json": "",
      "text/html": [
       "<div id='10789'>\n",
       "\n",
       "\n",
       "\n",
       "\n",
       "\n",
       "  <div class=\"bk-root\" id=\"1670e062-f7b9-4a0d-a7b2-8988ef412ae2\" data-root-id=\"10789\"></div>\n",
       "</div>\n",
       "<script type=\"application/javascript\">(function(root) {\n",
       "  function embed_document(root) {\n",
       "  var docs_json = {\"68a06022-db35-4005-9a88-2fdcfaf02ac5\":{\"roots\":{\"references\":[{\"attributes\":{},\"id\":\"10801\",\"type\":\"LinearScale\"},{\"attributes\":{},\"id\":\"10851\",\"type\":\"NodesAndLinkedEdges\"},{\"attributes\":{\"text\":\"\",\"text_color\":{\"value\":\"black\"},\"text_font_size\":{\"value\":\"12pt\"}},\"id\":\"10795\",\"type\":\"Title\"},{\"attributes\":{\"children\":[{\"id\":\"10790\"},{\"id\":\"10794\"},{\"id\":\"10869\"}],\"margin\":[0,0,0,0],\"name\":\"Row103640\",\"tags\":[\"embedded\"]},\"id\":\"10789\",\"type\":\"Row\"},{\"attributes\":{\"axis\":{\"id\":\"10807\"},\"dimension\":1,\"grid_line_color\":null,\"ticker\":null},\"id\":\"10810\",\"type\":\"Grid\"},{\"attributes\":{\"edge_renderer\":{\"id\":\"10840\"},\"inspection_policy\":{\"id\":\"10853\"},\"layout_provider\":{\"id\":\"10829\"},\"node_renderer\":{\"id\":\"10835\"},\"selection_policy\":{\"id\":\"10851\"}},\"id\":\"10842\",\"type\":\"GraphRenderer\"},{\"attributes\":{},\"id\":\"10856\",\"type\":\"BasicTickFormatter\"},{\"attributes\":{\"axis_label\":\"y\",\"bounds\":\"auto\",\"formatter\":{\"id\":\"10858\"},\"major_label_orientation\":\"horizontal\",\"ticker\":{\"id\":\"10808\"},\"visible\":false},\"id\":\"10807\",\"type\":\"LinearAxis\"},{\"attributes\":{\"margin\":[5,5,5,5],\"name\":\"HSpacer103644\",\"sizing_mode\":\"stretch_width\"},\"id\":\"10790\",\"type\":\"Spacer\"},{\"attributes\":{\"data_source\":{\"id\":\"10828\"},\"glyph\":{\"id\":\"10837\"},\"hover_glyph\":{\"id\":\"10839\"},\"muted_glyph\":null,\"nonselection_glyph\":{\"id\":\"10838\"},\"selection_glyph\":null,\"view\":{\"id\":\"10841\"}},\"id\":\"10840\",\"type\":\"GlyphRenderer\"},{\"attributes\":{\"fill_color\":{\"field\":\"node_color\",\"transform\":{\"id\":\"10826\"}},\"line_color\":{\"value\":\"gray\"},\"size\":{\"units\":\"screen\",\"value\":10}},\"id\":\"10830\",\"type\":\"Circle\"},{\"attributes\":{\"graph_layout\":{\"0\":[0.7751978535459594,0.23174925304038593],\"1\":[0.6995072376317436,-0.584796002931046],\"10\":[0.7453032782849348,0.38095191420376384],\"11\":[-0.8261899936556457,-0.4587512688182244],\"12\":[0.5458649042908109,0.6056005446373979],\"13\":[-0.5804486433826515,0.5013217967068213],\"14\":[-0.41621546271946397,0.6849369360840507],\"15\":[-0.2194391600170126,-0.7705677436560516],\"16\":[0.4609537020162648,0.44210487286065436],\"17\":[-0.8374492491299722,0.21488372925003216],\"18\":[0.5865273623794311,-0.4978453488294209],\"19\":[0.45616231478343394,-0.974844852403242],\"2\":[0.6250036274845346,0.04677583275131858],\"20\":[-0.021725534034821425,-0.960804540165341],\"21\":[-0.6286131742351087,-0.5954815064271836],\"22\":[-0.1836841539708112,-0.7148162858771987],\"23\":[-0.867297963790422,0.1500911977726715],\"24\":[-0.5998836122053958,0.4340114060844227],\"25\":[-0.5570483672952042,0.3318560587022951],\"26\":[-0.37804114819628604,0.6224124985268542],\"27\":[-0.5533531990833244,-0.5307496886861429],\"28\":[0.6181810767072434,0.3033888971736098],\"29\":[-0.3310704431466436,-0.8989922528923517],\"3\":[-0.06508052217156744,-1.0],\"4\":[-0.12841042199620584,0.7107264158086911],\"5\":[0.78626093874542,0.1548241582894184],\"6\":[-0.09851180151037828,0.5716005246808369],\"7\":[0.8109821097844881,0.1319292421952455],\"8\":[0.11883185068630144,0.755732191371847],\"9\":[0.06368659420034953,0.7127520205458858]}},\"id\":\"10829\",\"type\":\"StaticLayoutProvider\"},{\"attributes\":{\"bottom_units\":\"screen\",\"fill_alpha\":0.5,\"fill_color\":\"lightgrey\",\"left_units\":\"screen\",\"level\":\"overlay\",\"line_alpha\":1.0,\"line_color\":\"black\",\"line_dash\":[4,4],\"line_width\":2,\"render_mode\":\"css\",\"right_units\":\"screen\",\"top_units\":\"screen\"},\"id\":\"10817\",\"type\":\"BoxAnnotation\"},{\"attributes\":{\"fill_alpha\":{\"value\":0.2},\"fill_color\":{\"field\":\"node_color\",\"transform\":{\"id\":\"10826\"}},\"line_alpha\":{\"value\":0.2},\"size\":{\"units\":\"screen\",\"value\":10}},\"id\":\"10831\",\"type\":\"Circle\"},{\"attributes\":{\"fill_color\":{\"field\":\"node_color\",\"transform\":{\"id\":\"10826\"}},\"line_color\":{\"value\":\"gray\"},\"size\":{\"units\":\"screen\",\"value\":10}},\"id\":\"10832\",\"type\":\"Circle\"},{\"attributes\":{\"line_alpha\":{\"value\":0.2}},\"id\":\"10838\",\"type\":\"MultiLine\"},{\"attributes\":{\"factors\":[\"Therapeutic or Preventive Procedure\",\"Diagnostic Procedure\",\"Body Part, Organ, or Organ Component\",\"Disease or Syndrome\",\"Injury or Poisoning\",\"Neoplastic Process\",\"Organic Chemical | Pharmacologic Substance\",\"Finding\",\"Body Space or Junction\",\"Pathologic Function\",\"Medical Device\",\"Behavior\"],\"palette\":[\"#000000\",\"#1f77b4\",\"#aec7e8\",\"#ff7f0e\",\"#ffbb78\",\"#2ca02c\",\"#98df8a\",\"#d62728\",\"#ff9896\",\"#9467bd\",\"#c5b0d5\",\"#8c564b\"]},\"id\":\"10826\",\"type\":\"CategoricalColorMapper\"},{\"attributes\":{\"callback\":null},\"id\":\"10816\",\"type\":\"TapTool\"},{\"attributes\":{\"axis_label\":\"x\",\"bounds\":\"auto\",\"formatter\":{\"id\":\"10856\"},\"major_label_orientation\":\"horizontal\",\"ticker\":{\"id\":\"10804\"},\"visible\":false},\"id\":\"10803\",\"type\":\"LinearAxis\"},{\"attributes\":{\"data\":{\"end\":{\"__ndarray__\":\"GgAAAAQAAAAFAAAAHQAAAAkAAAATAAAACwAAAAwAAAAUAAAAAwAAABEAAAABAAAAAAAAAA0AAAAYAAAAFQAAAAoAAAA=\",\"dtype\":\"int32\",\"shape\":[17]},\"start\":{\"__ndarray__\":\"DgAAAAYAAAACAAAADwAAAAgAAAAWAAAAFgAAABAAAAADAAAAFAAAABcAAAASAAAABwAAABgAAAAZAAAAGwAAABwAAAA=\",\"dtype\":\"int32\",\"shape\":[17]},\"xs\":[{\"__ndarray__\":\"Ag4eLkaj2r/R5gKA0zHYvwAAAAAAAPh/XqrqZfC02r/R5gKA0zHYv84+caQKrdi/\",\"dtype\":\"float64\",\"shape\":[6]},{\"__ndarray__\":\"ftLBxRE4ub/GOXixwG/AvwAAAAAAAPh/VlBfNHXOub/GOXixwG/Av0S/en5QjsG/\",\"dtype\":\"float64\",\"shape\":[6]},{\"__ndarray__\":\"na19mwcA5D80FUGzDCnpPwAAAAAAAPh/zn07G2RM6D80FUGzDCnpP3zOKTHbouc/\",\"dtype\":\"float64\",\"shape\":[6]},{\"__ndarray__\":\"RQ3eF5UWzL8ELH8VQjDVvwAAAAAAAPh/dTUlVb4z1L8ELH8VQjDVvyIx1S8CaNK/\",\"dtype\":\"float64\",\"shape\":[6]},{\"__ndarray__\":\"2bproMNrvj9ivEi/w02wPwAAAAAAAPh/fVKgq6Zwtj9ivEi/w02wPw4P1YB+Srw/\",\"dtype\":\"float64\",\"shape\":[6]},{\"__ndarray__\":\"UY0MXfaCx7+AZuprwzHdPwAAAAAAAPh/zy9J4uYV2j+AZuprwzHdP4kia6Y8+9o/\",\"dtype\":\"float64\",\"shape\":[6]},{\"__ndarray__\":\"UY0MXfaCx7/9EWH/JXDqvwAAAAAAAPh/4kFnqT7i6L/9EWH/JXDqv2n6hNUAU+m/\",\"dtype\":\"float64\",\"shape\":[6]},{\"__ndarray__\":\"s1HI9EOA3T+P0v6suXfhPwAAAAAAAPh/yxZCQ2xV4T+P0v6suXfhPzLZiqEhR+A/\",\"dtype\":\"float64\",\"shape\":[6]},{\"__ndarray__\":\"R19V+h2psL+zt6voNz+WvwAAAAAAAPh/iosstRrJpb+zt6voNz+Wv5qpn6qSRrG/\",\"dtype\":\"float64\",\"shape\":[6]},{\"__ndarray__\":\"s7er6Dc/lr9HX1X6HamwvwAAAAAAAPh/3Q7UM72opr9HX1X6Hamwv2iOgidlyZO/\",\"dtype\":\"float64\",\"shape\":[6]},{\"__ndarray__\":\"jcDLqOfA67/pVSJeYszqvwAAAAAAAPh/2uDWlebb6r/pVSJeYszqvwk3DSSH8Ou/\",\"dtype\":\"float64\",\"shape\":[6]},{\"__ndarray__\":\"HB/0B9XE4j9LMp4AXWLmPwAAAAAAAPh/GWv2piHi5D9LMp4AXWLmP126boTjm+U/\",\"dtype\":\"float64\",\"shape\":[6]},{\"__ndarray__\":\"b0vlwJDz6T/uGJ26a87oPwAAAAAAAPh/+cXOxdbZ6T/uGJ26a87oP2pcm5ciu+g/\",\"dtype\":\"float64\",\"shape\":[6]},{\"__ndarray__\":\"P4P6HT8y47/2wIoICZPivwAAAAAAAPh/G6Ke4bZm4r/2wIoICZPiv4l7VLBUi+O/\",\"dtype\":\"float64\",\"shape\":[6]},{\"__ndarray__\":\"0lb6GFfT4b8/g/odPzLjvwAAAAAAAPh/QJx98aMX4r8/g/odPzLjv9XMIVqEMOO/\",\"dtype\":\"float64\",\"shape\":[6]},{\"__ndarray__\":\"N2WmxBG14b/YlSVgmR3kvwAAAAAAAPh/iGay9Stq47/YlSVgmR3kvyFEvtGQo+K/\",\"dtype\":\"float64\",\"shape\":[6]},{\"__ndarray__\":\"c9ZuriPI4z9zu7pChtnnPwAAAAAAAPh/tvEZ5f/u5j9zu7pChtnnP/+hxlBdUOY/\",\"dtype\":\"float64\",\"shape\":[6]}],\"ys\":[{\"__ndarray__\":\"yLWJ3QDr5T9wbLmdzerjPwAAAAAAAPh/c1wAsjvV5D9wbLmdzerjPwa2eenxc+U/\",\"dtype\":\"float64\",\"shape\":[6]},{\"__ndarray__\":\"Ki78Lo1K4j/rpglTRb7mPwAAAAAAAPh/VS0AMtN25T/rpglTRb7mP6s42jnVNuU/\",\"dtype\":\"float64\",\"shape\":[6]},{\"__ndarray__\":\"4PXRfwDzpz977D0sR9HDPwAAAAAAAPh/L0udUUpJvT977D0sR9HDP8Ec2uG8mMI/\",\"dtype\":\"float64\",\"shape\":[6]},{\"__ndarray__\":\"PF5Lr32o6L/c9bBmi8TsvwAAAAAAAPh/LunXUypL67/c9bBmi8Tsv3Ppznz5Euy/\",\"dtype\":\"float64\",\"shape\":[6]},{\"__ndarray__\":\"dT/PRvUu6D9H4UxT3c7mPwAAAAAAAPh/N9IHzvso6D9H4UxT3c7mP0nuPXfCOOc/\",\"dtype\":\"float64\",\"shape\":[6]},{\"__ndarray__\":\"RLRPZ8bf5r8u3vfU7THvvwAAAAAAAPh/J0cazpc0778u3vfU7THvv5lx4uZuGu6/\",\"dtype\":\"float64\",\"shape\":[6]},{\"__ndarray__\":\"RLRPZ8bf5r9nqCRILlzdvwAAAAAAAPh/XYrSy3lR3b9nqCRILlzdv7HZFfpUh9+/\",\"dtype\":\"float64\",\"shape\":[6]},{\"__ndarray__\":\"Dq6VPHJL3D+FCbVkFGHjPwAAAAAAAPh/IBbDBp/U4T+FCbVkFGHjPxwkXiT/YOI/\",\"dtype\":\"float64\",\"shape\":[6]},{\"__ndarray__\":\"AAAAAAAA8L99eLsp6b7uvwAAAAAAAPh/hmFtADcT8L99eLsp6b7uv5MGHlOARO+/\",\"dtype\":\"float64\",\"shape\":[6]},{\"__ndarray__\":\"fXi7Kem+7r8AAAAAAADwvwAAAAAAAPh/crXgKHuY7r8AAAAAAADwv+pxndZoeu+/\",\"dtype\":\"float64\",\"shape\":[6]},{\"__ndarray__\":\"lvDsODA2wz/bI8leT4HLPwAAAAAAAPh/LkY4DcNKxT/bI8leT4HLP7QCp4iCSMc/\",\"dtype\":\"float64\",\"shape\":[6]},{\"__ndarray__\":\"agnsvLLc37+dc20bprbivwAAAAAAAPh/GOdHOBpP4r+dc20bprbiv7cs7s68XeG/\",\"dtype\":\"float64\",\"shape\":[6]},{\"__ndarray__\":\"nKxOsg7jwD9HJ1ej9anNPwAAAAAAAPh/mYvXzDAPyT9HJ1ej9anNP4GcNkISdMc/\",\"dtype\":\"float64\",\"shape\":[6]},{\"__ndarray__\":\"/E7OxtfG2z+YFjQC1ArgPwAAAAAAAPh/dwjGi7r+3D+YFjQC1ArgP7yXMvG0p90/\",\"dtype\":\"float64\",\"shape\":[6]},{\"__ndarray__\":\"p8XGMSE91T/8Ts7G18bbPwAAAAAAAPh/nyn0wYWW2T/8Ts7G18bbP88GEZn4qtg/\",\"dtype\":\"float64\",\"shape\":[6]},{\"__ndarray__\":\"AJ1oxeb74L87SG87Lw7jvwAAAAAAAPh/DCv67f2q4b87SG87Lw7jv/a+5FXmkeK/\",\"dtype\":\"float64\",\"shape\":[6]},{\"__ndarray__\":\"WyHVQ7lq0z8QpDYjhGHYPwAAAAAAAPh/Bv6bqYre1T8QpDYjhGHYP/Gns2OI5tc/\",\"dtype\":\"float64\",\"shape\":[6]}]},\"selected\":{\"id\":\"10865\"},\"selection_policy\":{\"id\":\"10866\"}},\"id\":\"10828\",\"type\":\"ColumnDataSource\"},{\"attributes\":{\"callback\":null,\"renderers\":[{\"id\":\"10842\"}],\"tags\":[\"hv_created\"],\"tooltips\":[[\"index\",\"@{index_hover}\"],[\"CUI\",\"@{CUI}\"],[\"Text\",\"@{Text}\"],[\"Type\",\"@{Type}\"]]},\"id\":\"10793\",\"type\":\"HoverTool\"},{\"attributes\":{\"data_source\":{\"id\":\"10827\"},\"glyph\":{\"id\":\"10830\"},\"hover_glyph\":{\"id\":\"10833\"},\"muted_glyph\":{\"id\":\"10834\"},\"nonselection_glyph\":{\"id\":\"10831\"},\"selection_glyph\":{\"id\":\"10832\"},\"view\":{\"id\":\"10836\"}},\"id\":\"10835\",\"type\":\"GlyphRenderer\"},{\"attributes\":{\"source\":{\"id\":\"10827\"}},\"id\":\"10836\",\"type\":\"CDSView\"},{\"attributes\":{\"line_color\":{\"value\":\"limegreen\"}},\"id\":\"10839\",\"type\":\"MultiLine\"},{\"attributes\":{\"fill_color\":{\"field\":\"node_color\",\"transform\":{\"id\":\"10826\"}},\"line_color\":{\"value\":\"gray\"},\"size\":{\"units\":\"screen\",\"value\":10}},\"id\":\"10834\",\"type\":\"Circle\"},{\"attributes\":{},\"id\":\"10865\",\"type\":\"Selection\"},{\"attributes\":{},\"id\":\"10815\",\"type\":\"ResetTool\"},{\"attributes\":{},\"id\":\"10853\",\"type\":\"NodesAndLinkedEdges\"},{\"attributes\":{\"fill_color\":{\"value\":\"limegreen\"},\"size\":{\"units\":\"screen\",\"value\":10}},\"id\":\"10833\",\"type\":\"Circle\"},{\"attributes\":{\"active_drag\":\"auto\",\"active_inspect\":\"auto\",\"active_multi\":null,\"active_scroll\":\"auto\",\"active_tap\":\"auto\",\"tools\":[{\"id\":\"10793\"},{\"id\":\"10811\"},{\"id\":\"10812\"},{\"id\":\"10813\"},{\"id\":\"10814\"},{\"id\":\"10815\"},{\"id\":\"10816\"}]},\"id\":\"10818\",\"type\":\"Toolbar\"},{\"attributes\":{},\"id\":\"10868\",\"type\":\"UnionRenderers\"},{\"attributes\":{\"axis\":{\"id\":\"10803\"},\"grid_line_color\":null,\"ticker\":null},\"id\":\"10806\",\"type\":\"Grid\"},{\"attributes\":{\"overlay\":{\"id\":\"10817\"}},\"id\":\"10814\",\"type\":\"BoxZoomTool\"},{\"attributes\":{},\"id\":\"10804\",\"type\":\"BasicTicker\"},{\"attributes\":{\"align\":null,\"below\":[{\"id\":\"10803\"}],\"center\":[{\"id\":\"10806\"},{\"id\":\"10810\"}],\"left\":[{\"id\":\"10807\"}],\"margin\":null,\"min_border_bottom\":10,\"min_border_left\":10,\"min_border_right\":10,\"min_border_top\":10,\"plot_height\":800,\"plot_width\":800,\"renderers\":[{\"id\":\"10842\"}],\"sizing_mode\":\"fixed\",\"title\":{\"id\":\"10795\"},\"toolbar\":{\"id\":\"10818\"},\"x_range\":{\"id\":\"10791\"},\"x_scale\":{\"id\":\"10799\"},\"y_range\":{\"id\":\"10792\"},\"y_scale\":{\"id\":\"10801\"}},\"id\":\"10794\",\"subtype\":\"Figure\",\"type\":\"Plot\"},{\"attributes\":{},\"id\":\"10812\",\"type\":\"PanTool\"},{\"attributes\":{},\"id\":\"10813\",\"type\":\"WheelZoomTool\"},{\"attributes\":{},\"id\":\"10808\",\"type\":\"BasicTicker\"},{\"attributes\":{},\"id\":\"10867\",\"type\":\"Selection\"},{\"attributes\":{},\"id\":\"10799\",\"type\":\"LinearScale\"},{\"attributes\":{},\"id\":\"10811\",\"type\":\"SaveTool\"},{\"attributes\":{\"source\":{\"id\":\"10828\"}},\"id\":\"10841\",\"type\":\"CDSView\"},{\"attributes\":{\"end\":0.9313054105090317,\"reset_end\":0.9313054105090317,\"reset_start\":-1.1755732191371848,\"start\":-1.1755732191371848,\"tags\":[[[\"y\",\"y\",null]]]},\"id\":\"10792\",\"type\":\"Range1d\"},{\"attributes\":{\"data\":{\"CUI\":[\"C0192529\",\"C0193787\",\"C0227760\",\"C0267390\",\"C0274474\",\"C0347497\",\"C0056751\",\"C0399977\",\"C0433122\",\"C0433154\",\"C0433659\",\"C2584432\",\"C0559389\",\"C0556377\",\"C0576112\",\"C0580868\",\"C3696931\",\"C4304524\",\"C4518799\",\"C4543117\",\"C1297912\",\"C0262678\",\"C0180487\",\"C0269764\",\"C0565662\",\"C1287492\",\"C1288110\",\"C0195256\",\"C1828018\",\"C1960395\"],\"Text\":[\"Scott operation, intestinal bypass for obesity\",\"Fine needle biopsy of thyroid\",\"Labium majus\",\"Chronic ulcerative rectosigmoiditis\",\"Poisoning by cycloguanil\",\"Benign neoplasm of labia majora\",\"Cycloguanil\",\"Bypass of jejunum\",\"Degloving injury\",\"Degloving injury foot, plantar\",\"Gingival foreign body\",\"Doppler ultrasonography of arteriovenous fistula for hemodialysis\",\"Intra-abdominal digestive structure\",\"Persistent effect of alcohol\",\"Passive range of knee extension\",\"Vascular structure of liver\",\"Structure of compartment of abdomen\",\"Suspected fetal abnormality affecting management of mother\",\"Fine needle aspiration biopsy of neck structure\",\"Doppler ultrasonography flow mapping of vein of left upper extremity\",\"Chronic proctocolitis\",\"Control of antepartum hemorrhage\",\"Doppler device\",\"Fetal condition affecting obstetrical care of mother\",\"Finding relating to alcohol drinking behaviour\",\"Health-related behaviour finding\",\"Passive range of knee extension - finding\",\"Procedure on uterus\",\"Foreign body of face\",\"Operation on blood vessel of liver\"],\"Type\":[\"Therapeutic or Preventive Procedure\",\"Diagnostic Procedure\",\"Body Part, Organ, or Organ Component\",\"Disease or Syndrome\",\"Injury or Poisoning\",\"Neoplastic Process\",\"Organic Chemical | Pharmacologic Substance\",\"Therapeutic or Preventive Procedure\",\"Injury or Poisoning\",\"Injury or Poisoning\",\"Injury or Poisoning\",\"Diagnostic Procedure\",\"Body Part, Organ, or Organ Component\",\"Finding\",\"Finding\",\"Body Part, Organ, or Organ Component\",\"Body Space or Junction\",\"Pathologic Function\",\"Diagnostic Procedure\",\"Diagnostic Procedure\",\"Disease or Syndrome\",\"Therapeutic or Preventive Procedure\",\"Medical Device\",\"Disease or Syndrome\",\"Behavior\",\"Finding\",\"Finding\",\"Therapeutic or Preventive Procedure\",\"Injury or Poisoning\",\"Therapeutic or Preventive Procedure\"],\"index\":{\"__ndarray__\":\"AAAAAAEAAAACAAAAAwAAAAQAAAAFAAAABgAAAAcAAAAIAAAACQAAAAoAAAALAAAADAAAAA0AAAAOAAAADwAAABAAAAARAAAAEgAAABMAAAAUAAAAFQAAABYAAAAXAAAAGAAAABkAAAAaAAAAGwAAABwAAAAdAAAA\",\"dtype\":\"int32\",\"shape\":[30]},\"index_hover\":[\"S0307910\",\"S0309636\",\"S0383411\",\"S0476643\",\"S0504957\",\"S0598631\",\"S0625842\",\"S0824647\",\"S0856066\",\"S0856071\",\"S0892626\",\"S10604669\",\"S1266054\",\"S1279862\",\"S1319871\",\"S1334656\",\"S14188738\",\"S16796641\",\"S17258636\",\"S17615818\",\"S3220546\",\"S3237144\",\"S3267141\",\"S3314602\",\"S3321233\",\"S3346004\",\"S3468704\",\"S3494323\",\"S7326983\",\"S7851303\"],\"node_color\":[\"Therapeutic or Preventive Procedure\",\"Diagnostic Procedure\",\"Body Part, Organ, or Organ Component\",\"Disease or Syndrome\",\"Injury or Poisoning\",\"Neoplastic Process\",\"Organic Chemical | Pharmacologic Substance\",\"Therapeutic or Preventive Procedure\",\"Injury or Poisoning\",\"Injury or Poisoning\",\"Injury or Poisoning\",\"Diagnostic Procedure\",\"Body Part, Organ, or Organ Component\",\"Finding\",\"Finding\",\"Body Part, Organ, or Organ Component\",\"Body Space or Junction\",\"Pathologic Function\",\"Diagnostic Procedure\",\"Diagnostic Procedure\",\"Disease or Syndrome\",\"Therapeutic or Preventive Procedure\",\"Medical Device\",\"Disease or Syndrome\",\"Behavior\",\"Finding\",\"Finding\",\"Therapeutic or Preventive Procedure\",\"Injury or Poisoning\",\"Therapeutic or Preventive Procedure\"]},\"selected\":{\"id\":\"10867\"},\"selection_policy\":{\"id\":\"10868\"}},\"id\":\"10827\",\"type\":\"ColumnDataSource\"},{\"attributes\":{\"margin\":[5,5,5,5],\"name\":\"HSpacer103645\",\"sizing_mode\":\"stretch_width\"},\"id\":\"10869\",\"type\":\"Spacer\"},{\"attributes\":{},\"id\":\"10866\",\"type\":\"UnionRenderers\"},{\"attributes\":{\"end\":0.9788101171419792,\"reset_end\":0.9788101171419792,\"reset_start\":-1.035125971147913,\"start\":-1.035125971147913,\"tags\":[[[\"x\",\"x\",null]]]},\"id\":\"10791\",\"type\":\"Range1d\"},{\"attributes\":{},\"id\":\"10837\",\"type\":\"MultiLine\"},{\"attributes\":{},\"id\":\"10858\",\"type\":\"BasicTickFormatter\"}],\"root_ids\":[\"10789\"]},\"title\":\"Bokeh Application\",\"version\":\"2.0.1\"}};\n",
       "  var render_items = [{\"docid\":\"68a06022-db35-4005-9a88-2fdcfaf02ac5\",\"root_ids\":[\"10789\"],\"roots\":{\"10789\":\"1670e062-f7b9-4a0d-a7b2-8988ef412ae2\"}}];\n",
       "  root.Bokeh.embed.embed_items_notebook(docs_json, render_items);\n",
       "  }\n",
       "if (root.Bokeh !== undefined) {\n",
       "    embed_document(root);\n",
       "  } else {\n",
       "    var attempts = 0;\n",
       "    var timer = setInterval(function(root) {\n",
       "      if (root.Bokeh !== undefined) {\n",
       "        clearInterval(timer);\n",
       "        embed_document(root);\n",
       "      } else if (document.readyState == \"complete\") {\n",
       "        attempts++;\n",
       "        if (attempts > 100) {\n",
       "          clearInterval(timer);\n",
       "          console.log(\"Bokeh: ERROR: Unable to run BokehJS code because BokehJS library is missing\");\n",
       "        }\n",
       "      }\n",
       "    }, 10, root)\n",
       "  }\n",
       "})(window);</script>"
      ],
      "text/plain": [
       ":Graph   [start,end]   (Rela)"
      ]
     },
     "execution_count": 490,
     "metadata": {
      "application/vnd.holoviews_exec.v0+json": {
       "id": "10789"
      }
     },
     "output_type": "execute_result"
    }
   ],
   "source": [
    "kwargs = dict(width=800, height=800, xaxis=None, yaxis=None)\n",
    "opts.defaults(opts.Nodes(**kwargs), opts.Graph(**kwargs))\n",
    "\n",
    "colors = ['#000000']+hv.Cycle('Category20').values\n",
    "fb_graph = hv.Graph.from_networkx(G, nx.layout.fruchterman_reingold_layout)\n",
    "\n",
    "fb_graph.opts(cmap=colors, node_size=10, edge_line_width=1,\n",
    "              node_line_color='gray', node_color='Type', directed=True, arrowhead_length=0.02) "
   ]
  },
  {
   "cell_type": "code",
   "execution_count": 474,
   "metadata": {},
   "outputs": [],
   "source": [
    "# bundled = bundle_graph(fb_graph)\n",
    "# bundled"
   ]
  },
  {
   "cell_type": "code",
   "execution_count": null,
   "metadata": {},
   "outputs": [],
   "source": []
  },
  {
   "cell_type": "code",
   "execution_count": null,
   "metadata": {},
   "outputs": [],
   "source": []
  },
  {
   "cell_type": "code",
   "execution_count": null,
   "metadata": {},
   "outputs": [],
   "source": []
  },
  {
   "cell_type": "code",
   "execution_count": null,
   "metadata": {},
   "outputs": [],
   "source": []
  },
  {
   "cell_type": "code",
   "execution_count": 129,
   "metadata": {},
   "outputs": [],
   "source": [
    "# from ipywidgets import interact\n",
    "# %matplotlib inline\n",
    "# import matplotlib.pyplot as plt"
   ]
  },
  {
   "cell_type": "code",
   "execution_count": 128,
   "metadata": {},
   "outputs": [],
   "source": [
    "# # wrap a few graph generation functions so they have the same signature\n",
    "\n",
    "# def random_lobster(n, m, k, p):\n",
    "#     return nx.random_lobster(n, p, p / m)\n",
    "\n",
    "# def powerlaw_cluster(n, m, k, p):\n",
    "#     return nx.powerlaw_cluster_graph(n, m, p)\n",
    "\n",
    "# def erdos_renyi(n, m, k, p):\n",
    "#     return nx.erdos_renyi_graph(n, p)\n",
    "\n",
    "# def newman_watts_strogatz(n, m, k, p):\n",
    "#     return nx.newman_watts_strogatz_graph(n, k, p)\n",
    "\n",
    "# def plot_random_graph(n, m, k, p, generator):\n",
    "#     g = generator(n, m, k, p)\n",
    "#     nx.draw(g)\n",
    "#     plt.show()"
   ]
  },
  {
   "cell_type": "code",
   "execution_count": 127,
   "metadata": {},
   "outputs": [],
   "source": [
    "# interact(plot_random_graph, n=(2,30), m=(1,10), k=(1,10), p=(0.0, 1.0, 0.001),\n",
    "#          generator={\n",
    "#              'lobster': random_lobster,\n",
    "#              'power law': powerlaw_cluster,\n",
    "#              'Newman-Watts-Strogatz': newman_watts_strogatz,\n",
    "#              u'Erdős-Rényi': erdos_renyi,\n",
    "#          });"
   ]
  },
  {
   "cell_type": "code",
   "execution_count": null,
   "metadata": {},
   "outputs": [],
   "source": []
  },
  {
   "cell_type": "code",
   "execution_count": null,
   "metadata": {},
   "outputs": [],
   "source": []
  }
 ],
 "metadata": {
  "kernelspec": {
   "display_name": "Python 3",
   "language": "python",
   "name": "python3"
  },
  "language_info": {
   "codemirror_mode": {
    "name": "ipython",
    "version": 3
   },
   "file_extension": ".py",
   "mimetype": "text/x-python",
   "name": "python",
   "nbconvert_exporter": "python",
   "pygments_lexer": "ipython3",
   "version": "3.7.3"
  }
 },
 "nbformat": 4,
 "nbformat_minor": 2
}
